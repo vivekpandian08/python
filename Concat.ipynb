{
 "cells": [
  {
   "cell_type": "code",
   "execution_count": 12,
   "metadata": {},
   "outputs": [],
   "source": [
    "import os\n",
    "os.chdir('C:/Users/vivek/OneDrive/Desktop/project/segmentation/market-segmentation')"
   ]
  },
  {
   "cell_type": "code",
   "execution_count": 2,
   "metadata": {},
   "outputs": [],
   "source": [
    "import numpy as np\n",
    "import pandas as pd"
   ]
  },
  {
   "cell_type": "code",
   "execution_count": 13,
   "metadata": {},
   "outputs": [],
   "source": [
    "df=pd.read_csv('store.csv')"
   ]
  },
  {
   "cell_type": "code",
   "execution_count": 34,
   "metadata": {},
   "outputs": [],
   "source": [
    "#using concatination\n",
    "df['rep_']=df.region.str.cat(df.reps, sep=',') "
   ]
  },
  {
   "cell_type": "code",
   "execution_count": 35,
   "metadata": {},
   "outputs": [
    {
     "data": {
      "text/html": [
       "<div>\n",
       "<style scoped>\n",
       "    .dataframe tbody tr th:only-of-type {\n",
       "        vertical-align: middle;\n",
       "    }\n",
       "\n",
       "    .dataframe tbody tr th {\n",
       "        vertical-align: top;\n",
       "    }\n",
       "\n",
       "    .dataframe thead th {\n",
       "        text-align: right;\n",
       "    }\n",
       "</style>\n",
       "<table border=\"1\" class=\"dataframe\">\n",
       "  <thead>\n",
       "    <tr style=\"text-align: right;\">\n",
       "      <th></th>\n",
       "      <th>reps</th>\n",
       "      <th>product</th>\n",
       "      <th>qty</th>\n",
       "      <th>revenue</th>\n",
       "      <th>region</th>\n",
       "      <th>rep_details</th>\n",
       "      <th>rep_</th>\n",
       "    </tr>\n",
       "  </thead>\n",
       "  <tbody>\n",
       "    <tr>\n",
       "      <th>0</th>\n",
       "      <td>Chitra</td>\n",
       "      <td>Galaxy</td>\n",
       "      <td>2</td>\n",
       "      <td>155.10</td>\n",
       "      <td>West</td>\n",
       "      <td>Chitra,West</td>\n",
       "      <td>West,Chitra</td>\n",
       "    </tr>\n",
       "    <tr>\n",
       "      <th>1</th>\n",
       "      <td>Vijay</td>\n",
       "      <td>Jet</td>\n",
       "      <td>2</td>\n",
       "      <td>39.30</td>\n",
       "      <td>North</td>\n",
       "      <td>Vijay,North</td>\n",
       "      <td>North,Vijay</td>\n",
       "    </tr>\n",
       "    <tr>\n",
       "      <th>2</th>\n",
       "      <td>Mala</td>\n",
       "      <td>Beacon</td>\n",
       "      <td>3</td>\n",
       "      <td>74.25</td>\n",
       "      <td>West</td>\n",
       "      <td>Mala,West</td>\n",
       "      <td>West,Mala</td>\n",
       "    </tr>\n",
       "    <tr>\n",
       "      <th>3</th>\n",
       "      <td>Suman</td>\n",
       "      <td>Alpen</td>\n",
       "      <td>3</td>\n",
       "      <td>100.98</td>\n",
       "      <td>North</td>\n",
       "      <td>Suman,North</td>\n",
       "      <td>North,Suman</td>\n",
       "    </tr>\n",
       "    <tr>\n",
       "      <th>4</th>\n",
       "      <td>Rachna</td>\n",
       "      <td>Orbit</td>\n",
       "      <td>2</td>\n",
       "      <td>44.98</td>\n",
       "      <td>North</td>\n",
       "      <td>Rachna,North</td>\n",
       "      <td>North,Rachna</td>\n",
       "    </tr>\n",
       "  </tbody>\n",
       "</table>\n",
       "</div>"
      ],
      "text/plain": [
       "     reps product  qty  revenue region   rep_details          rep_\n",
       "0  Chitra  Galaxy    2   155.10   West   Chitra,West   West,Chitra\n",
       "1   Vijay     Jet    2    39.30  North   Vijay,North   North,Vijay\n",
       "2    Mala  Beacon    3    74.25   West     Mala,West     West,Mala\n",
       "3   Suman   Alpen    3   100.98  North   Suman,North   North,Suman\n",
       "4  Rachna   Orbit    2    44.98  North  Rachna,North  North,Rachna"
      ]
     },
     "execution_count": 35,
     "metadata": {},
     "output_type": "execute_result"
    }
   ],
   "source": [
    "#using \"+\" \n",
    "df['rep_details']=df.reps + ','+ df.region \n",
    "df.head()"
   ]
  }
 ],
 "metadata": {
  "kernelspec": {
   "display_name": "Python 3",
   "language": "python",
   "name": "python3"
  },
  "language_info": {
   "codemirror_mode": {
    "name": "ipython",
    "version": 3
   },
   "file_extension": ".py",
   "mimetype": "text/x-python",
   "name": "python",
   "nbconvert_exporter": "python",
   "pygments_lexer": "ipython3",
   "version": "3.7.1"
  }
 },
 "nbformat": 4,
 "nbformat_minor": 2
}
